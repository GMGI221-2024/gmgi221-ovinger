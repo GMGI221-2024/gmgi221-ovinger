{
 "cells": [
  {
   "cell_type": "markdown",
   "metadata": {
    "deletable": false,
    "editable": false,
    "nbgrader": {
     "cell_type": "markdown",
     "checksum": "d10b4acfcb115a09eb9d659f222deae6",
     "grade": false,
     "grade_id": "cell-e70f9f17145193e0",
     "locked": true,
     "schema_version": 3,
     "solution": false,
     "task": false
    }
   },
   "source": [
    "# Oppgave 1: Hvor mange mennesker bor nært kjøpesentrene? (10 poeng)\n",
    "\n",
    "I denne oppgaven fortsetter vi fra den forrige. Du skal gjøre en romlig kobling for å relatere data fra et befolkningsrutenett-datasett til bufferlaget opprettet i forrige øving for å finne ut hvor mange mennesker som bor i alle befolkningsrutenettceller som er innenfor 1,5 km avstand fra hvert kjøpesenter.\n",
    "\n",
    "Bruk det samme befolkningsrutenettet som ble brukt i forelesningen og bufferlaget (shopping_centres.geojson) du lagde i forrige øving. Ha begge datafilene i samme mappe som denne notebooken, og lever både begge datafilene og notebooken til slutt.\n",
    "\n",
    "Du kan gjerne lage flere kodeceller for å løse oppgaven, bare husk å lag de før test-cellene, og ikke slett test-cellene!\n",
    "\n",
    "Husk å kommentere koden din underveis."
   ]
  },
  {
   "cell_type": "markdown",
   "metadata": {
    "deletable": false,
    "editable": false,
    "nbgrader": {
     "cell_type": "markdown",
     "checksum": "520244ade06d9c9cfa855353521d0cc4",
     "grade": false,
     "grade_id": "cell-73eb38af5398ba6c",
     "locked": true,
     "schema_version": 3,
     "solution": false,
     "task": false
    },
    "vscode": {
     "languageId": "plaintext"
    }
   },
   "source": [
    "## 1a) Laste inn rutenett"
   ]
  },
  {
   "cell_type": "markdown",
   "metadata": {
    "deletable": false,
    "editable": false,
    "nbgrader": {
     "cell_type": "markdown",
     "checksum": "1250c4f5c4f11a41e0defcf16d88db4b",
     "grade": false,
     "grade_id": "cell-db34c2af374cf3a0",
     "locked": true,
     "schema_version": 3,
     "solution": false,
     "task": false
    },
    "vscode": {
     "languageId": "plaintext"
    }
   },
   "source": [
    "Bruk det samme befolkningsrutenettet som ble brukt i forelesningen. Last det inn i en `GeoDataFrame` som har navnet `rutenett`. Reprojiser rutenettet til CRS med EPSG-kode `25832`."
   ]
  },
  {
   "cell_type": "code",
   "execution_count": null,
   "metadata": {
    "deletable": false,
    "nbgrader": {
     "cell_type": "code",
     "checksum": "cf283518e1d7cd4b23af4c6007c3098e",
     "grade": false,
     "grade_id": "cell-7e90ec1a26581034",
     "locked": false,
     "schema_version": 3,
     "solution": true,
     "task": false
    }
   },
   "outputs": [],
   "source": [
    "# SKRIV DIN KODE HER OG FJERN LINJEN \"raise NotImplementedError()\"\n",
    "raise NotImplementedError()"
   ]
  },
  {
   "cell_type": "code",
   "execution_count": null,
   "metadata": {
    "deletable": false,
    "editable": false,
    "nbgrader": {
     "cell_type": "code",
     "checksum": "28da2ef485f6d7fcc57a95be2cd49a79",
     "grade": true,
     "grade_id": "cell-be24a61000444bc9",
     "locked": true,
     "points": 2,
     "schema_version": 3,
     "solution": false,
     "task": false
    }
   },
   "outputs": [],
   "source": [
    "# TEST-CELLE\n",
    "## Ikke slett denne cellen, og nye kodeceller du lager til denne deloppgaven skal komme før denne!\n",
    "import geopandas\n",
    "import pyproj\n",
    "assert isinstance(rutenett, geopandas.GeoDataFrame), \"Finner ikke GeoDataFramen 'rutenett'\"\n",
    "assert rutenett.crs == pyproj.CRS(\"EPSG:25832\"), \"Sjekk at GeoDataFramen har riktig CRS\"\n"
   ]
  },
  {
   "cell_type": "markdown",
   "metadata": {
    "deletable": false,
    "editable": false,
    "nbgrader": {
     "cell_type": "markdown",
     "checksum": "194f4787ef1ab030a20d84cb51951804",
     "grade": false,
     "grade_id": "cell-88bd14fba40a78dc",
     "locked": true,
     "schema_version": 3,
     "solution": false,
     "task": false
    }
   },
   "source": [
    "## 1b) Last inn bufferlag"
   ]
  },
  {
   "cell_type": "markdown",
   "metadata": {
    "deletable": false,
    "editable": false,
    "nbgrader": {
     "cell_type": "markdown",
     "checksum": "e26566d38318cac584a297b83c7d1fa6",
     "grade": false,
     "grade_id": "cell-341002603e61b595",
     "locked": true,
     "schema_version": 3,
     "solution": false,
     "task": false
    }
   },
   "source": [
    "Last inn bufferne du lagde i forrige øving inn i en `GeoDataFrame` som heter `buffer_lag`. \n",
    "\n",
    "Forsikre deg om at alle kjøpesentrene har en buffer, hvis ikke må du gjøre geokodingen fra Øving 4 om igjen, til du har en buffer per kjøpesenter.\n",
    "\n",
    "Lag en `assert` som sjekker hvorvidt begge geodataframene har samme CRS."
   ]
  },
  {
   "cell_type": "code",
   "execution_count": null,
   "metadata": {
    "deletable": false,
    "nbgrader": {
     "cell_type": "code",
     "checksum": "4db850b2433c385975aa35cdcbc5bc7d",
     "grade": false,
     "grade_id": "cell-4979b8018357a4f5",
     "locked": false,
     "schema_version": 3,
     "solution": true,
     "task": false
    }
   },
   "outputs": [],
   "source": [
    "# SKRIV DIN KODE HER OG FJERN LINJEN \"raise NotImplementedError()\"\n",
    "raise NotImplementedError()"
   ]
  },
  {
   "cell_type": "code",
   "execution_count": null,
   "metadata": {
    "deletable": false,
    "editable": false,
    "nbgrader": {
     "cell_type": "code",
     "checksum": "9e15515cf0e4495508a3939e9e307bce",
     "grade": true,
     "grade_id": "cell-3967ab3d778379b5",
     "locked": true,
     "points": 2,
     "schema_version": 3,
     "solution": false,
     "task": false
    }
   },
   "outputs": [],
   "source": [
    "# TEST-CELLE\n",
    "## Ikke slett denne cellen, og nye kodeceller du lager til denne deloppgaven skal komme før denne!\n",
    "assert isinstance(buffer_lag, geopandas.GeoDataFrame), \"Finner ikke GeoDataFramen 'buffer_lag'\"\n"
   ]
  },
  {
   "cell_type": "markdown",
   "metadata": {
    "deletable": false,
    "editable": false,
    "nbgrader": {
     "cell_type": "markdown",
     "checksum": "74fd681dfb3d31aea28928562379a389",
     "grade": false,
     "grade_id": "cell-abac2009fb3218fe",
     "locked": true,
     "schema_version": 3,
     "solution": false,
     "task": false
    }
   },
   "source": [
    "## 1c) Utfør en romlig kobling mellom `rutenett` og `buffer_lag`"
   ]
  },
  {
   "cell_type": "markdown",
   "metadata": {
    "deletable": false,
    "editable": false,
    "nbgrader": {
     "cell_type": "markdown",
     "checksum": "9686d667f365ad81bcb9b78e793fec2f",
     "grade": false,
     "grade_id": "cell-558410f470776ece",
     "locked": true,
     "schema_version": 3,
     "solution": false,
     "task": false
    }
   },
   "source": [
    "Slå sammen bufferlagets `id`-kolonne (og andre, hvis du vil) med befolkningsrutenett-dataframen, for alle befolkningsrutenettceller som er innenfor bufferområdet til hvert kjøpesenter. [Bruk en sammenkoblingstype som beholder kun rader fra begge inndataframene der den geometriske predikaten er sann](https://geopandas.org/en/stable/gallery/spatial_joins.html#Types-of-spatial-joins).\n",
    "\n",
    "Lagre resultatet i en variabel med navnet `sammenkoblet_data`."
   ]
  },
  {
   "cell_type": "code",
   "execution_count": null,
   "metadata": {
    "deletable": false,
    "nbgrader": {
     "cell_type": "code",
     "checksum": "c71ca4c60acf99603fd416f0d61d8236",
     "grade": false,
     "grade_id": "cell-49d89d238209cf32",
     "locked": false,
     "schema_version": 3,
     "solution": true,
     "task": false
    }
   },
   "outputs": [],
   "source": [
    "# SKRIV DIN KODE HER OG FJERN LINJEN \"raise NotImplementedError()\"\n",
    "raise NotImplementedError()"
   ]
  },
  {
   "cell_type": "code",
   "execution_count": null,
   "metadata": {
    "deletable": false,
    "editable": false,
    "nbgrader": {
     "cell_type": "code",
     "checksum": "a8f104f50f3fcde6e099faf9f5760cdd",
     "grade": true,
     "grade_id": "cell-d9f6fec21bbe9d3c",
     "locked": true,
     "points": 2,
     "schema_version": 3,
     "solution": false,
     "task": false
    }
   },
   "outputs": [],
   "source": [
    "# TEST-CELLE\n",
    "## Ikke slett denne cellen, og nye kodeceller du lager til denne deloppgaven skal komme før denne!\n",
    "assert isinstance(sammenkoblet_data, geopandas.GeoDataFrame), \"Finner ikke GeoDataFramen 'sammenkoblet_data'\""
   ]
  },
  {
   "cell_type": "markdown",
   "metadata": {
    "deletable": false,
    "editable": false,
    "nbgrader": {
     "cell_type": "markdown",
     "checksum": "dae988ba32a8d14c0234d3c520dff601",
     "grade": false,
     "grade_id": "cell-fcd29be275693140",
     "locked": true,
     "schema_version": 3,
     "solution": false,
     "task": false
    }
   },
   "source": [
    "## 1d) Regn ut den totale befolkningen rundt kjøpesentrene"
   ]
  },
  {
   "cell_type": "markdown",
   "metadata": {
    "deletable": false,
    "editable": false,
    "nbgrader": {
     "cell_type": "markdown",
     "checksum": "6387cd0dee0303e805cea1efe442f888",
     "grade": false,
     "grade_id": "cell-abcbeecc8f2b3292",
     "locked": true,
     "schema_version": 3,
     "solution": false,
     "task": false
    }
   },
   "source": [
    "Grupper den resulterende (sammenkoblede) dataframen etter kjøpesenternavn, og beregn summen (`sum()`) av befolkningen som bor innenfor en radius på 1,5 km rundt dem.\n",
    "\n",
    "Skriv ut resultatene, for eksempel i formen \"12345 mennesker bor innen 1,5 km fra Oslo City\"."
   ]
  },
  {
   "cell_type": "code",
   "execution_count": null,
   "metadata": {
    "deletable": false,
    "nbgrader": {
     "cell_type": "code",
     "checksum": "97b8ab57eaeebb50a1645f513ac23fda",
     "grade": false,
     "grade_id": "cell-6443f2549daee070",
     "locked": false,
     "schema_version": 3,
     "solution": true,
     "task": false
    }
   },
   "outputs": [],
   "source": [
    "# SKRIV DIN KODE HER OG FJERN LINJEN \"raise NotImplementedError()\"\n",
    "raise NotImplementedError()"
   ]
  },
  {
   "cell_type": "code",
   "execution_count": null,
   "metadata": {
    "deletable": false,
    "editable": false,
    "nbgrader": {
     "cell_type": "code",
     "checksum": "043bc9643cd19ef1a970fa1a7414b8e8",
     "grade": true,
     "grade_id": "cell-d7043a1fbfe991f3",
     "locked": true,
     "points": 2,
     "schema_version": 3,
     "solution": false,
     "task": false
    }
   },
   "outputs": [],
   "source": [
    "# TEST-CELLE\n",
    "## Ikke slett denne cellen, og nye kodeceller du lager til denne deloppgaven skal komme før denne!\n"
   ]
  },
  {
   "cell_type": "markdown",
   "metadata": {
    "deletable": false,
    "editable": false,
    "nbgrader": {
     "cell_type": "markdown",
     "checksum": "dcfe54400a43001b61d8191d4fa3ab3a",
     "grade": false,
     "grade_id": "cell-85c3067421c5c440",
     "locked": true,
     "schema_version": 3,
     "solution": false,
     "task": false
    }
   },
   "source": [
    "## 1e) Refleksjon"
   ]
  },
  {
   "cell_type": "markdown",
   "metadata": {
    "deletable": false,
    "editable": false,
    "nbgrader": {
     "cell_type": "markdown",
     "checksum": "620a434f4aeedf409e9364462a83595d",
     "grade": false,
     "grade_id": "cell-ccf20f50795fc836",
     "locked": true,
     "schema_version": 3,
     "solution": false,
     "task": false
    }
   },
   "source": [
    "Godt jobbet! Du er nesten ferdig med denne ukens øvelse. Vennligst svar raskt på følgende korte spørsmål:\n",
    "\n",
    "* Hvor utfordrende syntes du denne og forrige øvingsoppgave var (på en skala fra 1-5), og hvorfor?\n",
    "* Hva var lett?\n",
    "* Hva var vanskelig?\n",
    "\n",
    "Legg til svarene dine i Markdown-cellen nedenfor:"
   ]
  },
  {
   "cell_type": "markdown",
   "metadata": {
    "deletable": false,
    "nbgrader": {
     "cell_type": "markdown",
     "checksum": "522d60b33e3dbbecd8e762c2650addc8",
     "grade": true,
     "grade_id": "cell-88c2d55bfd1264a5",
     "locked": false,
     "points": 2,
     "schema_version": 3,
     "solution": true,
     "task": false
    }
   },
   "source": [
    "SKRIV SVARENE DINE I DENNE CELLEN"
   ]
  }
 ],
 "metadata": {
  "kernelspec": {
   "display_name": "Python 3 (ipykernel)",
   "language": "python",
   "name": "python3"
  },
  "language_info": {
   "codemirror_mode": {
    "name": "ipython",
    "version": 3
   },
   "file_extension": ".py",
   "mimetype": "text/x-python",
   "name": "python",
   "nbconvert_exporter": "python",
   "pygments_lexer": "ipython3",
   "version": "3.11.9"
  }
 },
 "nbformat": 4,
 "nbformat_minor": 4
}

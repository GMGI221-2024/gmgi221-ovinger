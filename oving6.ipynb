{
 "cells": [
  {
   "cell_type": "markdown",
   "metadata": {
    "deletable": false,
    "editable": false,
    "nbgrader": {
     "cell_type": "markdown",
     "checksum": "c3d22f86c8e9d8e8fa913d46ca9fcd21",
     "grade": false,
     "grade_id": "cell-832dcff3b759d6df",
     "locked": true,
     "schema_version": 3,
     "solution": false,
     "task": false
    }
   },
   "source": [
    "# Oppgave 1: (10 poeng)"
   ]
  },
  {
   "cell_type": "markdown",
   "metadata": {
    "deletable": false,
    "editable": false,
    "nbgrader": {
     "cell_type": "markdown",
     "checksum": "7a068a46e42b7a429de4791fe03d1860",
     "grade": false,
     "grade_id": "cell-4a5bb0c4e6805d4c",
     "locked": true,
     "schema_version": 3,
     "solution": false,
     "task": false
    }
   },
   "source": [
    "**1a) Les inn grunnkretser for Trondheim**\n",
    "\n",
    "* Les inn filen `Grunnkretser 2024.geojson` og lagre den i en variabel som heter `grunnkretser`.\n",
    "* Sørg for at du har lest inn en GeoDataFrame med korrekt crs."
   ]
  },
  {
   "cell_type": "code",
   "execution_count": null,
   "metadata": {
    "deletable": false,
    "nbgrader": {
     "cell_type": "code",
     "checksum": "bfa85bc9f894e6555fb38120f643e42f",
     "grade": false,
     "grade_id": "cell-fbdc1fa2f055ff3d",
     "locked": false,
     "schema_version": 3,
     "solution": true,
     "task": false
    }
   },
   "outputs": [],
   "source": [
    "# SKRIV DIN KODE HER OG FJERN LINJEN \"raise NotImplementedError()\"\n",
    "raise NotImplementedError()"
   ]
  },
  {
   "cell_type": "code",
   "execution_count": null,
   "metadata": {
    "deletable": false,
    "editable": false,
    "nbgrader": {
     "cell_type": "code",
     "checksum": "1d5df49737e99130a9d874d221fa566d",
     "grade": true,
     "grade_id": "cell-40945faf4743760d",
     "locked": true,
     "points": 2,
     "schema_version": 3,
     "solution": false,
     "task": false
    }
   },
   "outputs": [],
   "source": [
    "# TEST-CELLE\n",
    "## Ikke slett denne cellen, og nye kodeceller du lager til denne deloppgaven skal komme før denne!\n",
    "import pandas\n",
    "import geopandas\n",
    "assert isinstance(grunnkretser, geopandas.GeoDataFrame), \"Har du lest inn GeoDataFramen riktig?\""
   ]
  },
  {
   "cell_type": "markdown",
   "metadata": {
    "deletable": false,
    "editable": false,
    "nbgrader": {
     "cell_type": "markdown",
     "checksum": "0cabbece41c4c915c364c630c3e879a2",
     "grade": false,
     "grade_id": "cell-a61a4a5ce1228d68",
     "locked": true,
     "schema_version": 3,
     "solution": false,
     "task": false
    }
   },
   "source": [
    "**1b) Les inn befolkningstall for Trondheim**\n",
    "\n",
    "* Les inn befolkningstall for Trondheim fra filen `TRD-folkemengde.csv` i data-mappen inn i en DataFrame. NB. denne filen inneholder ikke geografisk informasjon.\n",
    "* Lagre befolkningstallen i en variabel med navn `befolkning`.\n",
    "* Endre navnet på kolonnen som inneholder navn på grunnkretser til å være det samme som i `grunnkretser`-GeoDataFramen. (Du kan f.eks. bruke [`.rename()`-funksjonen](https://pandas.pydata.org/docs/reference/api/pandas.DataFrame.rename.html))"
   ]
  },
  {
   "cell_type": "code",
   "execution_count": null,
   "metadata": {
    "deletable": false,
    "nbgrader": {
     "cell_type": "code",
     "checksum": "0ac7b9153822419de6f43c69b705813e",
     "grade": false,
     "grade_id": "cell-430dc3a7ef9c6cad",
     "locked": false,
     "schema_version": 3,
     "solution": true,
     "task": false
    }
   },
   "outputs": [],
   "source": [
    "# SKRIV DIN KODE HER OG FJERN LINJEN \"raise NotImplementedError()\"\n",
    "raise NotImplementedError()"
   ]
  },
  {
   "cell_type": "code",
   "execution_count": null,
   "metadata": {
    "deletable": false,
    "editable": false,
    "nbgrader": {
     "cell_type": "code",
     "checksum": "49bd5488007fb9330904f025c787f32c",
     "grade": true,
     "grade_id": "cell-a6c5b768e8a318f2",
     "locked": true,
     "points": 2,
     "schema_version": 3,
     "solution": false,
     "task": false
    }
   },
   "outputs": [],
   "source": [
    "# TEST-CELLE\n",
    "## Ikke slett denne cellen, og nye kodeceller du lager til denne deloppgaven skal komme før denne!\n",
    "assert isinstance(befolkning, pandas.DataFrame), \"Har du lest inn befolkningstallene riktig?\""
   ]
  },
  {
   "cell_type": "markdown",
   "metadata": {
    "deletable": false,
    "editable": false,
    "nbgrader": {
     "cell_type": "markdown",
     "checksum": "d10d46a685210591019ffbfdc3c5bdd4",
     "grade": false,
     "grade_id": "cell-9fc6374f6aeaf8f1",
     "locked": true,
     "schema_version": 3,
     "solution": false,
     "task": false
    }
   },
   "source": [
    "**1c) Koble sammen grunnkretser og befolkningstall**\n",
    "\n",
    "Du skal nå koble sammen grunnkretsene med befolkningstallene. Du skal sitte igjen med en GeoDataFrame som inneholder alle grunnkretsene og befolkningstall for alle årene. Lagre den sammenslåtte dataen i en GeoDataFrame som heter `grunnkretser_befolkning`."
   ]
  },
  {
   "cell_type": "code",
   "execution_count": null,
   "metadata": {
    "deletable": false,
    "nbgrader": {
     "cell_type": "code",
     "checksum": "f478cd84dc9a17055fc5d66f13b36f6c",
     "grade": false,
     "grade_id": "cell-4b3b55ed93eb8f08",
     "locked": false,
     "schema_version": 3,
     "solution": true,
     "task": false
    }
   },
   "outputs": [],
   "source": [
    "# SKRIV DIN KODE HER OG FJERN LINJEN \"raise NotImplementedError()\"\n",
    "raise NotImplementedError()"
   ]
  },
  {
   "cell_type": "code",
   "execution_count": null,
   "metadata": {
    "deletable": false,
    "editable": false,
    "nbgrader": {
     "cell_type": "code",
     "checksum": "c6537b2f557041ce136012eca33e9bd6",
     "grade": true,
     "grade_id": "cell-2e5738086f9b59d8",
     "locked": true,
     "points": 2,
     "schema_version": 3,
     "solution": false,
     "task": false
    }
   },
   "outputs": [],
   "source": [
    "# TEST-CELLE\n",
    "## Ikke slett denne cellen, og nye kodeceller du lager til denne deloppgaven skal komme før denne!\n",
    "assert isinstance(grunnkretser_befolkning, geopandas.GeoDataFrame), \"Har du lest inn GeoDataFramen riktig?\""
   ]
  },
  {
   "cell_type": "markdown",
   "metadata": {
    "deletable": false,
    "editable": false,
    "nbgrader": {
     "cell_type": "markdown",
     "checksum": "2ec825d997bee931edb971a792e6b81b",
     "grade": false,
     "grade_id": "cell-8e16a5fe4fd74d96",
     "locked": true,
     "schema_version": 3,
     "solution": false,
     "task": false
    }
   },
   "source": [
    "**1d) Klassifiser dataene**\n",
    "\n",
    "Du skal nå klassifisere befolkningsdataene for 2024 i det sammenslåtte datasettet:\n",
    "* Lag en `UserDefined` klassifiserer ved hjelp av [mapclassify](https://github.com/pysal/mapclassify#userdefined) og bruk klasseneskillene `250,500,1000,2000`\n",
    "* Bruk klassifisereren din på kolonnen med befolkningsdata for 2024 og lagre det i en kolonnen med navn `2024_klasser`.\n"
   ]
  },
  {
   "cell_type": "code",
   "execution_count": null,
   "metadata": {
    "deletable": false,
    "nbgrader": {
     "cell_type": "code",
     "checksum": "23685041178b8dc8e75481ce4c967c51",
     "grade": false,
     "grade_id": "cell-075711dc0f378414",
     "locked": false,
     "schema_version": 3,
     "solution": true,
     "task": false
    }
   },
   "outputs": [],
   "source": [
    "# SKRIV DIN KODE HER OG FJERN LINJEN \"raise NotImplementedError()\"\n",
    "raise NotImplementedError()"
   ]
  },
  {
   "cell_type": "code",
   "execution_count": null,
   "metadata": {
    "deletable": false,
    "editable": false,
    "nbgrader": {
     "cell_type": "code",
     "checksum": "db4982ac5c52fd682f29418d54cdb2b2",
     "grade": true,
     "grade_id": "cell-4b93f4f0f9c08464",
     "locked": true,
     "points": 2,
     "schema_version": 3,
     "solution": false,
     "task": false
    }
   },
   "outputs": [],
   "source": [
    "# TEST-CELLE\n",
    "## Ikke slett denne cellen, og nye kodeceller du lager til denne deloppgaven skal komme før denne!\n",
    "assert '2024_klasser' in grunnkretser_befolkning.columns, \"Kolonnen '2024_klasser' finnes ikke i 'grunnkretser_befolkning'\""
   ]
  },
  {
   "cell_type": "markdown",
   "metadata": {
    "deletable": false,
    "editable": false,
    "nbgrader": {
     "cell_type": "markdown",
     "checksum": "18bf6d7c6f0acf0916ff462d42101667",
     "grade": false,
     "grade_id": "cell-fd52ebd392b5d154",
     "locked": true,
     "schema_version": 3,
     "solution": false,
     "task": false
    }
   },
   "source": [
    "**1e) Plot de klassifiserte befolkningsdataene**\n",
    "\n",
    "Lag et enkelt plot over befolkningsdataene basert på den nye klassifiseringen."
   ]
  },
  {
   "cell_type": "code",
   "execution_count": null,
   "metadata": {
    "deletable": false,
    "nbgrader": {
     "cell_type": "code",
     "checksum": "4b080dbdef9e699ecc763ccbbd750f98",
     "grade": false,
     "grade_id": "cell-59ca4da5a9aaa917",
     "locked": false,
     "schema_version": 3,
     "solution": true,
     "task": false
    }
   },
   "outputs": [],
   "source": [
    "# SKRIV DIN KODE HER OG FJERN LINJEN \"raise NotImplementedError()\"\n",
    "raise NotImplementedError()"
   ]
  },
  {
   "cell_type": "code",
   "execution_count": null,
   "metadata": {
    "deletable": false,
    "editable": false,
    "nbgrader": {
     "cell_type": "code",
     "checksum": "2d5faeb9cc84d09770a712f1848f686c",
     "grade": true,
     "grade_id": "cell-9ba460bbd05aec59",
     "locked": true,
     "points": 2,
     "schema_version": 3,
     "solution": false,
     "task": false
    }
   },
   "outputs": [],
   "source": [
    "# TEST-CELLE\n",
    "## Ikke slett denne cellen, og nye kodeceller du lager til denne deloppgaven skal komme før denne!\n"
   ]
  },
  {
   "cell_type": "markdown",
   "metadata": {
    "deletable": false,
    "editable": false,
    "nbgrader": {
     "cell_type": "markdown",
     "checksum": "f9908894f89509297a46a18495d5d8f0",
     "grade": false,
     "grade_id": "cell-1fcc698ad161b827",
     "locked": true,
     "schema_version": 3,
     "solution": false,
     "task": false
    }
   },
   "source": [
    "## Valgfri bonusoppgave (*2 poeng*):\n",
    "Lag det samme kartet for årene 2022 og 2023 og plot et histogram over den egendefinerte klassifiseringen for hvert av de tre årene."
   ]
  },
  {
   "cell_type": "code",
   "execution_count": null,
   "metadata": {},
   "outputs": [],
   "source": []
  }
 ],
 "metadata": {
  "kernelspec": {
   "display_name": "Python 3 (ipykernel)",
   "language": "python",
   "name": "python3"
  },
  "language_info": {
   "codemirror_mode": {
    "name": "ipython",
    "version": 3
   },
   "file_extension": ".py",
   "mimetype": "text/x-python",
   "name": "python",
   "nbconvert_exporter": "python",
   "pygments_lexer": "ipython3",
   "version": "3.11.9"
  }
 },
 "nbformat": 4,
 "nbformat_minor": 4
}

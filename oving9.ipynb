{
 "cells": [
  {
   "cell_type": "markdown",
   "metadata": {
    "deletable": false,
    "editable": false,
    "nbgrader": {
     "cell_type": "markdown",
     "checksum": "a3361626f6638f4f49b3795c4772aa3f",
     "grade": false,
     "grade_id": "cell-98e9bf9f537d3e53",
     "locked": true,
     "schema_version": 3,
     "solution": false,
     "task": false
    }
   },
   "source": [
    "# Øving 9: Nettverksanalyse (10 poeng)\n"
   ]
  },
  {
   "cell_type": "markdown",
   "metadata": {
    "deletable": false,
    "editable": false,
    "nbgrader": {
     "cell_type": "markdown",
     "checksum": "7df59eb9740a0e2788c4f2faf31e5d65",
     "grade": false,
     "grade_id": "cell-e72e2967ad3c4f11",
     "locked": true,
     "schema_version": 3,
     "solution": false,
     "task": false
    }
   },
   "source": [
    "Denne uken skal vi jobbe med OpenStreetMap data og utføre en nettverksanalyse i Python.\n",
    "\n",
    "## Oppgave 1: Lese inn data\n",
    "\n",
    "I data-mappen ligger det to filer:\n",
    "\n",
    "- `start.csv`\n",
    "- `slutt.csv`\n",
    "\n",
    "Les de inn i to dataframes som heter henholdsvis `start` og `slutt`."
   ]
  },
  {
   "cell_type": "code",
   "execution_count": null,
   "metadata": {
    "deletable": false,
    "nbgrader": {
     "cell_type": "code",
     "checksum": "b9bd10ed98130761f02c7d13403fafc7",
     "grade": false,
     "grade_id": "cell-6ecbba49a2f4d187",
     "locked": false,
     "schema_version": 3,
     "solution": true,
     "task": false
    }
   },
   "outputs": [],
   "source": [
    "# SKRIV DIN KODE HER OG FJERN LINJEN \"raise NotImplementedError()\"\n",
    "raise NotImplementedError()"
   ]
  },
  {
   "cell_type": "code",
   "execution_count": null,
   "metadata": {
    "deletable": false,
    "editable": false,
    "nbgrader": {
     "cell_type": "code",
     "checksum": "c885636041c040cbae465d9b5fc6c059",
     "grade": true,
     "grade_id": "cell-3898a9dd343d8a76",
     "locked": true,
     "points": 2,
     "schema_version": 3,
     "solution": false,
     "task": false
    }
   },
   "outputs": [],
   "source": [
    "# TEST-CELLE\n",
    "## Ikke slett denne cellen, og nye kodeceller du lager til denne deloppgaven skal komme før denne!"
   ]
  },
  {
   "cell_type": "markdown",
   "metadata": {
    "deletable": false,
    "editable": false,
    "nbgrader": {
     "cell_type": "markdown",
     "checksum": "50a4d6b92bb3bcdc6e00c51f132dd032",
     "grade": false,
     "grade_id": "cell-87a98db6da54bd48",
     "locked": true,
     "schema_version": 3,
     "solution": false,
     "task": false
    }
   },
   "source": [
    "## Oppgave 2: Lokaliser punktene\n",
    "\n",
    "Du skal nå localisere punktene på to ulike måter:\n",
    "\n",
    "### 2a) Visuell lokalisering\n",
    "\n",
    "Her skal du plotte punktene på ett kart med et bakgrunnskart og se hvor punktene befinner seg. Begge datasettene er i utgangspunktet i EPSG:4326."
   ]
  },
  {
   "cell_type": "code",
   "execution_count": null,
   "metadata": {
    "deletable": false,
    "nbgrader": {
     "cell_type": "code",
     "checksum": "59437982afec1742ca68018a1cf998c9",
     "grade": false,
     "grade_id": "cell-1a8eba087b3fc46c",
     "locked": false,
     "schema_version": 3,
     "solution": true,
     "task": false
    }
   },
   "outputs": [],
   "source": [
    "# SKRIV DIN KODE HER OG FJERN LINJEN \"raise NotImplementedError()\"\n",
    "raise NotImplementedError()"
   ]
  },
  {
   "cell_type": "markdown",
   "metadata": {
    "deletable": false,
    "editable": false,
    "nbgrader": {
     "cell_type": "markdown",
     "checksum": "d29544275224695449ccb0e2090a10c5",
     "grade": false,
     "grade_id": "cell-f2b3b60af4b1798b",
     "locked": true,
     "schema_version": 3,
     "solution": false,
     "task": false
    }
   },
   "source": [
    "### 2b) Geokoding\n",
    "\n",
    "Du skal nå bruke omvendt geokoding av punktene ([se hint fra geopy-dokumentasjonen](https://geopy.readthedocs.io/en/stable/index.html?highlight=reverse#module-geopy.geocoders)) og printe ut adressene fra minst ett av lagene med punkter."
   ]
  },
  {
   "cell_type": "code",
   "execution_count": null,
   "metadata": {
    "deletable": false,
    "nbgrader": {
     "cell_type": "code",
     "checksum": "b73a53ffb68cd3117074b5dc33348f8f",
     "grade": false,
     "grade_id": "cell-5849e2f89e2f54c5",
     "locked": false,
     "schema_version": 3,
     "solution": true,
     "task": false
    }
   },
   "outputs": [],
   "source": [
    "# SKRIV DIN KODE HER OG FJERN LINJEN \"raise NotImplementedError()\"\n",
    "raise NotImplementedError()"
   ]
  },
  {
   "cell_type": "markdown",
   "metadata": {
    "deletable": false,
    "editable": false,
    "nbgrader": {
     "cell_type": "markdown",
     "checksum": "e607e2b84e1186f9569d9e519cf8d1d1",
     "grade": false,
     "grade_id": "cell-16802bc9a56d71a9",
     "locked": true,
     "schema_version": 3,
     "solution": false,
     "task": false
    }
   },
   "source": [
    "## Oppgave 3: OpenStreetMap\n",
    "\n",
    "Du skal nå hente ut data fra OpenStreetMap for området hvor punktene befinner seg. Bruk bare veinettet for bil.\n",
    "\n",
    "Spesifiser først utstrekningen til området du skal laste inn data fra som et Shapely Polygon. Utstrekningen skal være et polygon som er lagret i variablen `utstrekning`.\n",
    "\n",
    "- Merk at noen av rutene kan gå utover omfanget av punktdatasettene!\n",
    "- Legg til litt buffer rundt punktene for å laste ned grafen, slik at du dekker alle rutene mellom punktene.\n",
    "- Se hint fra denne ukens oppgavesid om hvordan du definerer utstrekningen.\n"
   ]
  },
  {
   "cell_type": "code",
   "execution_count": null,
   "metadata": {
    "deletable": false,
    "nbgrader": {
     "cell_type": "code",
     "checksum": "8a7675797bdc111ba849a9f2401c2d6d",
     "grade": false,
     "grade_id": "cell-e7b40a6bb6011717",
     "locked": false,
     "schema_version": 3,
     "solution": true,
     "task": false
    }
   },
   "outputs": [],
   "source": [
    "# SKRIV DIN KODE HER OG FJERN LINJEN \"raise NotImplementedError()\"\n",
    "raise NotImplementedError()"
   ]
  },
  {
   "cell_type": "markdown",
   "metadata": {
    "deletable": false,
    "editable": false,
    "nbgrader": {
     "cell_type": "markdown",
     "checksum": "90b6eb71b241462c6fa5d9b8f04ea4ca",
     "grade": false,
     "grade_id": "cell-5efcc4e7d1ce2cf7",
     "locked": true,
     "schema_version": 3,
     "solution": false,
     "task": false
    }
   },
   "source": [
    "- Bruk polygonet til laste inn det kjørbare veinettet med `.graph_from_polygon()`-funksjonen\n",
    "- Husk å spesifiser riktig `network_type`\n",
    "- se [osmnx-dokumentasjonen](https://osmnx.readthedocs.io/en/stable/osmnx.html#osmnx.core.graph_from_polygon) for mer detaljer\n",
    "- lagre veinettet i en variabel med navn `graph`"
   ]
  },
  {
   "cell_type": "code",
   "execution_count": null,
   "metadata": {
    "deletable": false,
    "nbgrader": {
     "cell_type": "code",
     "checksum": "393f01d47b34811ba83b758353a10363",
     "grade": false,
     "grade_id": "cell-dfdb4c23fd84e9f1",
     "locked": false,
     "schema_version": 3,
     "solution": true,
     "task": false
    }
   },
   "outputs": [],
   "source": [
    "# SKRIV DIN KODE HER OG FJERN LINJEN \"raise NotImplementedError()\"\n",
    "raise NotImplementedError()"
   ]
  },
  {
   "cell_type": "code",
   "execution_count": null,
   "metadata": {
    "deletable": false,
    "editable": false,
    "nbgrader": {
     "cell_type": "code",
     "checksum": "22aa5ec85b90b9de759090782569b254",
     "grade": true,
     "grade_id": "cell-7bc2c163d1a34a87",
     "locked": true,
     "points": 2,
     "schema_version": 3,
     "solution": false,
     "task": false
    }
   },
   "outputs": [],
   "source": [
    "# TEST-CELLE\n",
    "## Ikke slett denne cellen, og nye kodeceller du lager til denne deloppgaven skal komme før denne!"
   ]
  },
  {
   "cell_type": "markdown",
   "metadata": {
    "deletable": false,
    "editable": false,
    "nbgrader": {
     "cell_type": "markdown",
     "checksum": "82dc5d7b237eff5a219e0f12fd68c415",
     "grade": false,
     "grade_id": "cell-a170b0b503269ca4",
     "locked": true,
     "schema_version": 3,
     "solution": false,
     "task": false
    }
   },
   "source": [
    "## Oppgave 4: Reprojisering\n",
    "\n",
    "Reprojiser dataene til en UTM-projeksjon og plot et kart med veinettet, start-punktene i en farge og slutt-punktene i en annen farge"
   ]
  },
  {
   "cell_type": "code",
   "execution_count": null,
   "metadata": {
    "deletable": false,
    "nbgrader": {
     "cell_type": "code",
     "checksum": "f3bb15932461359fcff5389af1df542f",
     "grade": false,
     "grade_id": "cell-8c0b727b217fac1e",
     "locked": false,
     "schema_version": 3,
     "solution": true,
     "task": false
    }
   },
   "outputs": [],
   "source": [
    "# SKRIV DIN KODE HER OG FJERN LINJEN \"raise NotImplementedError()\"\n",
    "raise NotImplementedError()"
   ]
  },
  {
   "cell_type": "code",
   "execution_count": null,
   "metadata": {
    "deletable": false,
    "nbgrader": {
     "cell_type": "code",
     "checksum": "93fccd5c6025589c4ad9d3d7ac65f7fe",
     "grade": false,
     "grade_id": "cell-c2524f893d96fade",
     "locked": false,
     "schema_version": 3,
     "solution": true,
     "task": false
    }
   },
   "outputs": [],
   "source": [
    "# SKRIV DIN KODE HER OG FJERN LINJEN \"raise NotImplementedError()\"\n",
    "raise NotImplementedError()"
   ]
  },
  {
   "cell_type": "markdown",
   "metadata": {
    "deletable": false,
    "editable": false,
    "nbgrader": {
     "cell_type": "markdown",
     "checksum": "74dafdd9c93f57fd160d814d531751c4",
     "grade": false,
     "grade_id": "cell-be6a5b7a62a95240",
     "locked": true,
     "schema_version": 3,
     "solution": false,
     "task": false
    }
   },
   "source": [
    "## Oppgave 5: Korteste vei\n",
    "\n",
    "Regn ut korteste vei mellom _alle_ start- og slutt-punkt ved hjelp av lengden på veisegmentene.\n",
    "\n",
    "- For å finne de korteste rutene, bør du finne de nærmeste nodene fra grafen for både start- og destinasjonspunktene.\n",
    "- Merk: hvis den nærmeste noden er den samme for både start- og destinasjonspunktet, bør du hoppe over beregningen av den korteste ruten.\n",
    "- Etter ruteberegningen bør du legge til de korteste rutene som LineString-geometrier i en GeoDataFrame kalt `ruter`.\n",
    "- Du bør bruke den projiserte grafen som nettverk for analysene.\n",
    "- Husk å bruke informative variabelnavn og å kommentere koden din!"
   ]
  },
  {
   "cell_type": "code",
   "execution_count": null,
   "metadata": {
    "deletable": false,
    "nbgrader": {
     "cell_type": "code",
     "checksum": "bf7e8aebe69df6298a92f1df7c196f1f",
     "grade": false,
     "grade_id": "cell-4d8198e95b9a5275",
     "locked": false,
     "schema_version": 3,
     "solution": true,
     "task": false
    }
   },
   "outputs": [],
   "source": [
    "# SKRIV DIN KODE HER OG FJERN LINJEN \"raise NotImplementedError()\"\n",
    "raise NotImplementedError()"
   ]
  },
  {
   "cell_type": "markdown",
   "metadata": {
    "deletable": false,
    "editable": false,
    "nbgrader": {
     "cell_type": "markdown",
     "checksum": "fbbd341298c4c78fb6623e064e4aabd7",
     "grade": false,
     "grade_id": "cell-64cbb222d25efbdf",
     "locked": true,
     "schema_version": 3,
     "solution": false,
     "task": false
    }
   },
   "source": [
    "## Oppgave 6: Regn ut avstand\n",
    "\n",
    "Regn ut avstanden til alle rutene i meter og lagre i en ny kolonne ved navn `avstand`\n"
   ]
  },
  {
   "cell_type": "code",
   "execution_count": null,
   "metadata": {
    "deletable": false,
    "nbgrader": {
     "cell_type": "code",
     "checksum": "83b61cc595ea3d221542719045ce8450",
     "grade": false,
     "grade_id": "cell-38b836b734d5bef7",
     "locked": false,
     "schema_version": 3,
     "solution": true,
     "task": false
    }
   },
   "outputs": [],
   "source": [
    "# SKRIV DIN KODE HER OG FJERN LINJEN \"raise NotImplementedError()\"\n",
    "raise NotImplementedError()"
   ]
  },
  {
   "cell_type": "code",
   "execution_count": null,
   "metadata": {
    "deletable": false,
    "editable": false,
    "nbgrader": {
     "cell_type": "code",
     "checksum": "906a8ec15030f81c0a225470a5e197ea",
     "grade": true,
     "grade_id": "cell-747e3cce14122ece",
     "locked": true,
     "points": 1,
     "schema_version": 3,
     "solution": false,
     "task": false
    }
   },
   "outputs": [],
   "source": [
    "# TEST-CELLE\n",
    "## Ikke slett denne cellen, og nye kodeceller du lager til denne deloppgaven skal komme før denne!\n",
    "print(f\"Korteste distanse: {round(ruter['avstand'].min())} meter\")"
   ]
  },
  {
   "cell_type": "code",
   "execution_count": null,
   "metadata": {
    "deletable": false,
    "editable": false,
    "nbgrader": {
     "cell_type": "code",
     "checksum": "3b050544814c6cf484e4429bf2100716",
     "grade": true,
     "grade_id": "cell-1dd7f7578d403ccd",
     "locked": true,
     "points": 1,
     "schema_version": 3,
     "solution": false,
     "task": false
    }
   },
   "outputs": [],
   "source": [
    "# TEST-CELLE\n",
    "## Ikke slett denne cellen, og nye kodeceller du lager til denne deloppgaven skal komme før denne!\n",
    "print(f\"Lengste distanse: {round(ruter['avstand'].max())} meter\")"
   ]
  },
  {
   "cell_type": "markdown",
   "metadata": {
    "deletable": false,
    "editable": false,
    "nbgrader": {
     "cell_type": "markdown",
     "checksum": "88852152a4811c8ed3df28e08ade7267",
     "grade": false,
     "grade_id": "cell-ee13ae135014e3fd",
     "locked": true,
     "schema_version": 3,
     "solution": false,
     "task": false
    }
   },
   "source": [
    "## Oppgave 7: Plot\n",
    "\n",
    "Plot alle rutene oppå veinettet"
   ]
  },
  {
   "cell_type": "code",
   "execution_count": null,
   "metadata": {
    "deletable": false,
    "nbgrader": {
     "cell_type": "code",
     "checksum": "be45c7e5ce84a1806b81a230dd40ae47",
     "grade": false,
     "grade_id": "cell-837110a4a1ed4706",
     "locked": false,
     "schema_version": 3,
     "solution": true,
     "task": false
    }
   },
   "outputs": [],
   "source": [
    "# SKRIV DIN KODE HER OG FJERN LINJEN \"raise NotImplementedError()\"\n",
    "raise NotImplementedError()"
   ]
  },
  {
   "cell_type": "markdown",
   "metadata": {
    "deletable": false,
    "editable": false,
    "nbgrader": {
     "cell_type": "markdown",
     "checksum": "cfced89187fd73d00c28f20922b377f5",
     "grade": false,
     "grade_id": "cell-238c1dece86342fa",
     "locked": true,
     "schema_version": 3,
     "solution": false,
     "task": false
    }
   },
   "source": [
    "## Oppgave 8: Total avstand\n",
    "\n",
    "Regn ut den totale avstanden og lagre den i en variabel ved navn `total_avstand`"
   ]
  },
  {
   "cell_type": "code",
   "execution_count": null,
   "metadata": {
    "deletable": false,
    "nbgrader": {
     "cell_type": "code",
     "checksum": "0a3c83a90bb19f4ef55de1be732f43e7",
     "grade": false,
     "grade_id": "cell-977c64eb5b5d1cbb",
     "locked": false,
     "schema_version": 3,
     "solution": true,
     "task": false
    }
   },
   "outputs": [],
   "source": [
    "# SKRIV DIN KODE HER OG FJERN LINJEN \"raise NotImplementedError()\"\n",
    "raise NotImplementedError()"
   ]
  },
  {
   "cell_type": "code",
   "execution_count": null,
   "metadata": {
    "deletable": false,
    "editable": false,
    "nbgrader": {
     "cell_type": "code",
     "checksum": "32a9f836c4807263550a37041a9258c7",
     "grade": true,
     "grade_id": "cell-b7ca6807e1344dd6",
     "locked": true,
     "points": 0,
     "schema_version": 3,
     "solution": false,
     "task": false
    }
   },
   "outputs": [],
   "source": [
    "# TEST-CELLE\n",
    "## Ikke slett denne cellen, og nye kodeceller du lager til denne deloppgaven skal komme før denne!\n",
    "# Print løsningen din:\n",
    "print(f\"Den totale avstanden av alle ruter er {round((total_avstand / 1000))} kilometer\")\n",
    "\n",
    "# Sjekk om du har samme resultat som den innebygde testen.\n",
    "# Ikke få panikk om du får feil her, koden din kan være riktig, men at du har brukt et litt annet nettverk i analysen tidligere i oppgaven.\n",
    "assert 0.9*575 <= round(total_avstand/1000) <= 1.1*575, \"Your solution doesn't match the model solution.\""
   ]
  },
  {
   "cell_type": "markdown",
   "metadata": {
    "deletable": false,
    "editable": false,
    "nbgrader": {
     "cell_type": "markdown",
     "checksum": "f7d87ad4d1457e3d29e755f7dddb0d0b",
     "grade": false,
     "grade_id": "cell-35c678f6f964e4c8",
     "locked": true,
     "schema_version": 3,
     "solution": false,
     "task": false
    }
   },
   "source": [
    "## Ferdig!\n",
    "\n",
    "Gratulerer, du er nå ferdig med siste øvingsoppgave, da er det bare prosjektoppgaven som gjenstår!"
   ]
  }
 ],
 "metadata": {
  "kernelspec": {
   "display_name": "Python 3 (ipykernel)",
   "language": "python",
   "name": "python3"
  },
  "language_info": {
   "codemirror_mode": {
    "name": "ipython",
    "version": 3
   },
   "file_extension": ".py",
   "mimetype": "text/x-python",
   "name": "python",
   "nbconvert_exporter": "python",
   "pygments_lexer": "ipython3",
   "version": "3.11.9"
  }
 },
 "nbformat": 4,
 "nbformat_minor": 4
}

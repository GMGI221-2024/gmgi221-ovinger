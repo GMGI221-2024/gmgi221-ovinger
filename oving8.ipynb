{
 "cells": [
  {
   "cell_type": "markdown",
   "metadata": {
    "deletable": false,
    "editable": false,
    "nbgrader": {
     "cell_type": "markdown",
     "checksum": "0643a460e0cbbcb2dcb6e22b7623e672",
     "grade": false,
     "grade_id": "cell-f009141562245e79",
     "locked": true,
     "schema_version": 3,
     "solution": false,
     "task": false
    }
   },
   "source": [
    "## Oppgave 1: Visualiser data i et statisk kart (5 poeng)\n",
    "\n",
    "Lag et *statisk* tematisk kart ved å bruke ferdighetene du lærte i forelesningen. Kartet skal inneholde mer enn ett lag (fra minst to forskjellige datasett). Vær oppmerksom på klassifisering og visualisering (valg av passende fargeskjema, etc.). Skriv koden din i denne notatboken, og lagre de resulterende kartene i `.png`-format i `NOTEBOOK_MAPPE / \"output\"`-mappen."
   ]
  },
  {
   "cell_type": "markdown",
   "metadata": {
    "deletable": false,
    "editable": false,
    "nbgrader": {
     "cell_type": "markdown",
     "checksum": "1f10bb17c35da1131031636be9a6eb24",
     "grade": false,
     "grade_id": "cell-a4c96a3aa9bf7d79",
     "locked": true,
     "schema_version": 3,
     "solution": false,
     "task": false
    }
   },
   "source": [
    "### Tema for kartet\n",
    "\n",
    "- Bruk et hvilket som helst av datasettene vi har brukt i løpet av emnet (f.eks. befolkningsrutenett), eller et hvilket som helst annet datasett av interesse (for eksempel, åpne datasett , eller åpne geo-data fra ). Hvis du laster ned datasett, legg de til `DATA_MAPPE`. Sørg for å inkludere en attribusjon til hvert datasett i ditt output-kart!\n",
    "- Føl deg fri til å starte fra og tilpasse eksempler fra kursmaterialet! Du kan ta et skritt videre og legge til ytterligere analyser (f.eks. befolkningen i nærheten av visse adresser)"
   ]
  },
  {
   "cell_type": "markdown",
   "metadata": {
    "deletable": false,
    "editable": false,
    "nbgrader": {
     "cell_type": "markdown",
     "checksum": "392598129b11da3e2796517e3e03dc9a",
     "grade": false,
     "grade_id": "cell-2e13ec3e5a7f5513",
     "locked": true,
     "schema_version": 3,
     "solution": false,
     "task": false
    }
   },
   "source": [
    "### Kriterier\n",
    "\n",
    "- Kartet har mer enn ett datalag (for eksempel resultatene av en analyse og veinettet for å illustrere et komplekst romlig mønster). Hvis (og bare hvis) du mener det tilfører ekstra verdi, kan du gjerne legge til et bakgrunnskart (men et bakgrunnskart teller ikke som et eget lag)\n",
    "- Kartet viser resultatet av en analyse eller en klassifisering som tilfører verdi utover bare å vise rådataene\n",
    "- Kartet følger gode kartografiske praksiser (passende kartutstrekning og zoomnivå, fargeskjema, tegnforklaring og datakilder, osv.)"
   ]
  },
  {
   "cell_type": "markdown",
   "metadata": {
    "deletable": false,
    "editable": false,
    "nbgrader": {
     "cell_type": "markdown",
     "checksum": "a68d26f624f008a8502c3a0c01497f63",
     "grade": false,
     "grade_id": "cell-68110ec469b8e4ae",
     "locked": true,
     "schema_version": 3,
     "solution": false,
     "task": false
    }
   },
   "source": [
    "### Output\n",
    "\n",
    "- Lagre kartet/kartene i .png-format i `NOTEBOOK_MAPPE / \"output\"`-mappen\n",
    "- Husk også å legge til inputdatasett og kode\n",
    "\n",
    "---"
   ]
  },
  {
   "cell_type": "code",
   "execution_count": null,
   "metadata": {},
   "outputs": [],
   "source": [
    "# SKRIV DIN KODE HER OG FJERN LINJEN \"raise NotImplementedError()\"\n",
    "import pathlib \n",
    "NOTEBOOK_MAPPE = pathlib.Path().resolve()\n",
    "DATA_MAPPE = NOTEBOOK_MAPPE / \"data\"\n",
    "OUTPUT_MAPPE = NOTEBOOK_MAPPE / \"output\"\n",
    "\n",
    "raise NotImplementedError()"
   ]
  },
  {
   "cell_type": "code",
   "execution_count": null,
   "metadata": {
    "deletable": false,
    "editable": false,
    "nbgrader": {
     "cell_type": "code",
     "checksum": "a1b5162fb7ff7a4637f02cd0aea9ce83",
     "grade": true,
     "grade_id": "cell-png-test",
     "locked": true,
     "points": 5,
     "schema_version": 3,
     "solution": false,
     "task": false
    }
   },
   "outputs": [],
   "source": [
    "# TEST-CELLE\n",
    "## Ikke slett denne cellen, og nye kodeceller du lager til denne deloppgaven skal komme før denne!\n"
   ]
  },
  {
   "cell_type": "markdown",
   "metadata": {
    "deletable": false,
    "editable": false,
    "nbgrader": {
     "cell_type": "markdown",
     "checksum": "58cbb7e5ab4a8b92528f5e4ebb948271",
     "grade": false,
     "grade_id": "cell-94c4877fc557b9e6",
     "locked": true,
     "schema_version": 3,
     "solution": false,
     "task": false
    }
   },
   "source": [
    "## Oppgave 2: Visualiser data i et interaktivt kart (5 poeng)\n",
    "\n",
    "Lag et *interaktivt* tematisk kart ved å bruke ferdighetene du lærte i forelesningen. Du kan bruke Folium, eller en hvilken som helst annen passende Python-pakke - føl deg fri til å eksperimentere).\n",
    "\n",
    "Kartet skal inneholde mer enn ett lag (fra minst to forskjellige datasett). Vær oppmerksom på klassifisering og visualisering (valg av passende fargeskjema, etc.). Skriv koden din i denne notebooken, og lagre de resulterende kartene i .html-format (pluss muligens tilleggsfiler, avhengig av din tilnærming) i `NOTEBOOK_MAPPE / \"output\"`-mappen."
   ]
  },
  {
   "cell_type": "markdown",
   "metadata": {
    "deletable": false,
    "editable": false,
    "nbgrader": {
     "cell_type": "markdown",
     "checksum": "c8773dffd263996862b26ba561d7f80b",
     "grade": false,
     "grade_id": "cell-5ba0528eb8fb9032",
     "locked": true,
     "schema_version": 3,
     "solution": false,
     "task": false
    }
   },
   "source": [
    "### Tema for kartet\n",
    "\n",
    "- Bruk et hvilket som helst av datasettene vi har brukt i løpet av kurset (f.eks. befolkningsrutenett), eller et hvilket som helst annet datasett av interesse (for eksempel, åpne datasett fra Statistisk sentralbyrå, eller åpne geo-data fra GeoNorge). Hvis du laster ned datasett, legg de til `DATA_MAPPE`. Sørg for å inkludere en attribusjon til hvert datasett i ditt output-kart!\n",
    "- Føl deg fri til å starte fra og tilpasse eksempler fra kursmaterialet! Du kan ta et skritt videre og legge til ytterligere analyser (f.eks. befolkningen i nærheten av visse adresser)\n",
    "- Dette skal **ikke** være en interaktiv versjon av din innlevering for oppgave 1! Lag noe nytt!"
   ]
  },
  {
   "cell_type": "markdown",
   "metadata": {
    "deletable": false,
    "editable": false,
    "nbgrader": {
     "cell_type": "markdown",
     "checksum": "019f8153abdbf9f9312db496369fcc84",
     "grade": false,
     "grade_id": "cell-8d3d11916b5d4ca5",
     "locked": true,
     "schema_version": 3,
     "solution": false,
     "task": false
    }
   },
   "source": [
    "### Kriterier\n",
    "\n",
    "- Kartet har mer enn ett datalag (for eksempel resultatene av en analyse og veinettet for å illustrere et komplekst romlig mønster). Hvis (og bare hvis) du mener det tilfører ekstra verdi, kan du gjerne legge til et bakgrunnskart (men et bakgrunnskart teller ikke som et eget lag)\n",
    "- Kartet viser resultatet av en analyse eller en klassifisering som tilfører verdi utover bare å vise rådataene\n",
    "- Kartet følger gode kartografiske praksiser (passende kartutstrekning og zoomnivå, fargeskjema, tegnforklaring og datakilder, osv.)\n",
    "- Kartet demonstrerer ferdighetene lært i forelesningen, interaktive elementer (popups, osv.) er et pluss."
   ]
  },
  {
   "cell_type": "markdown",
   "metadata": {
    "deletable": false,
    "editable": false,
    "nbgrader": {
     "cell_type": "markdown",
     "checksum": "628fb868e36f42c7181428b7b1e65c81",
     "grade": false,
     "grade_id": "cell-9987bdaf30f7576a",
     "locked": true,
     "schema_version": 3,
     "solution": false,
     "task": false
    }
   },
   "source": [
    "### Output\n",
    "\n",
    "- Lagre kartet i `.html`-format i `NOTEBOOK_MAPPE / \"output\"`-mappen\n",
    "- Husk også å legge til inputdatasett og kode\n",
    "\n",
    "---"
   ]
  },
  {
   "cell_type": "code",
   "execution_count": null,
   "metadata": {},
   "outputs": [],
   "source": [
    "# SKRIV DIN KODE HER OG FJERN LINJEN \"raise NotImplementedError()\"\n",
    "import pathlib \n",
    "NOTEBOOK_MAPPE = pathlib.Path().resolve()\n",
    "DATA_MAPPE = NOTEBOOK_MAPPE / \"data\"\n",
    "OUTPUT_MAPPE = NOTEBOOK_MAPPE / \"output\"\n",
    "raise NotImplementedError()"
   ]
  },
  {
   "cell_type": "code",
   "execution_count": null,
   "metadata": {
    "deletable": false,
    "editable": false,
    "nbgrader": {
     "cell_type": "code",
     "checksum": "59d3f57cc2a10dce6f100f9bac8396a8",
     "grade": true,
     "grade_id": "cell-html-test",
     "locked": true,
     "points": 5,
     "schema_version": 3,
     "solution": false,
     "task": false
    }
   },
   "outputs": [],
   "source": [
    "# TEST-CELLE\n",
    "## Ikke slett denne cellen, og nye kodeceller du lager til denne deloppgaven skal komme før denne!\n"
   ]
  }
 ],
 "metadata": {
  "anaconda-cloud": {},
  "kernelspec": {
   "display_name": "Python 3 (ipykernel)",
   "language": "python",
   "name": "python3"
  },
  "language_info": {
   "codemirror_mode": {
    "name": "ipython",
    "version": 3
   },
   "file_extension": ".py",
   "mimetype": "text/x-python",
   "name": "python",
   "nbconvert_exporter": "python",
   "pygments_lexer": "ipython3",
   "version": "3.11.9"
  }
 },
 "nbformat": 4,
 "nbformat_minor": 4
}

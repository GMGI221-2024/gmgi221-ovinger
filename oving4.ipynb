{
 "cells": [
  {
   "cell_type": "markdown",
   "id": "19440c8b-3fb5-410b-8442-16e1b74d8556",
   "metadata": {
    "deletable": false,
    "editable": false,
    "nbgrader": {
     "cell_type": "markdown",
     "checksum": "6ed37d98eeea8a9d14cd3c252c18a86e",
     "grade": false,
     "grade_id": "cell-6ba0a3a3cc548b98",
     "locked": true,
     "schema_version": 3,
     "solution": false,
     "task": false
    }
   },
   "source": [
    "# Oppgave 1: Geokoding (10 poeng)\n",
    "\n",
    "Det overordnede målet med oppgavene 1-3 er å finne ut **hvor mange mennesker som bor innen gangavstand (1,5 km) fra visse kjøpesentre i Oslo**.\n",
    "\n",
    "Oppgave 1 gjelder lokasjonene til kjøpesentrene: finn adressene til kjøpesenterne og konverter de til koordinater."
   ]
  },
  {
   "cell_type": "markdown",
   "id": "7ecddd0b",
   "metadata": {
    "deletable": false,
    "editable": false,
    "nbgrader": {
     "cell_type": "markdown",
     "checksum": "3dbb1cb772524f7397e1b29bd7c043ef",
     "grade": false,
     "grade_id": "cell-f82f340ad023dc0f",
     "locked": true,
     "schema_version": 3,
     "solution": false,
     "task": false
    }
   },
   "source": [
    "### a) Forbered en inputfil som inneholder adressene til kjøpesentre\n",
    "\n",
    "Finn ut adressene til følgende kjøpesentre (f.eks. ved å bruke din favorittsøkemotor), og samle dem i en tekstfil kalt `shopping_centres.txt`:\n",
    "\n",
    " - Oslo City\n",
    " - Bryn Senter\n",
    " - Storo Storsenter\n",
    " - Lambertseter senter\n",
    " - Manglerud Senter\n",
    " - Linderud senter\n",
    " - Tveita Senter\n",
    " \n",
    "Tekstfilen skal være i semikolon-separert format (`;`) og inkludere følgende kolonner:\n",
    "\n",
    "- `id` (integer) en unik identifikator for hvert kjøpesenter\n",
    "- `navn` (string) navnet på hvert kjøpesenter\n",
    "- `adr` (string) adressen\n",
    "\n",
    "Se et eksempel på hvordan du formaterer tekstfilen [fra forelesningen](https://haavardaagesen.github.io/gmgi221/content/notebooks/04_geokoding-i-geopandas.html).\n"
   ]
  },
  {
   "cell_type": "markdown",
   "id": "a488c079",
   "metadata": {
    "deletable": false,
    "editable": false,
    "nbgrader": {
     "cell_type": "markdown",
     "checksum": "9db3e193bd0c0d39f238b3b95a2ef741",
     "grade": false,
     "grade_id": "cell-29d7ac2424bc3396",
     "locked": true,
     "schema_version": 3,
     "solution": false,
     "task": false
    }
   },
   "source": [
    "### b) Les in listen med adresser\n",
    "\n",
    "Les inn listen med adresser du nettopp forberedte inn i en `pandas.DataFrame` kalt `shopping_centres`"
   ]
  },
  {
   "cell_type": "code",
   "execution_count": null,
   "id": "987c8156-9dbf-46a7-9c7c-2e3672f541de",
   "metadata": {
    "deletable": false,
    "nbgrader": {
     "cell_type": "code",
     "checksum": "8e3cf9b35e023069b86b6d85f2a054c0",
     "grade": false,
     "grade_id": "cell-2f037a5cf913c96a",
     "locked": false,
     "schema_version": 3,
     "solution": true,
     "task": false
    }
   },
   "outputs": [],
   "source": [
    "# YOUR CODE HERE\n",
    "raise NotImplementedError()"
   ]
  },
  {
   "cell_type": "code",
   "execution_count": null,
   "id": "9f585e37",
   "metadata": {
    "deletable": false,
    "editable": false,
    "nbgrader": {
     "cell_type": "code",
     "checksum": "80520e76ba475c228576ed81aa310a00",
     "grade": true,
     "grade_id": "cell-4a93cf71f10aaaa9",
     "locked": true,
     "points": 2,
     "schema_version": 3,
     "solution": false,
     "task": false
    }
   },
   "outputs": [],
   "source": [
    "# NON-EDITABLE CODE CELL FOR TESTING YOUR SOLUTION"
   ]
  },
  {
   "cell_type": "markdown",
   "id": "328d43e0",
   "metadata": {
    "deletable": false,
    "editable": false,
    "nbgrader": {
     "cell_type": "markdown",
     "checksum": "6b5e2e492694c5a1a852611c899fd408",
     "grade": false,
     "grade_id": "cell-a4c09c31e42ef26d",
     "locked": true,
     "schema_version": 3,
     "solution": false,
     "task": false
    }
   },
   "source": [
    "### c) Geokode adressene\n",
    "\n",
    "Du skal nå geokode adressene ved å bruke Nominatim sin geokodingstjenesten. Slå sammen resultatene med inputdataene, og lagre dem i en `geopandas.GeoDataFrame` med samme navn (`shopping_centres`).\n",
    "\n",
    "Husk å definere en tilpasset `user_agent`-streng!"
   ]
  },
  {
   "cell_type": "code",
   "execution_count": null,
   "id": "02b8d889",
   "metadata": {
    "deletable": false,
    "nbgrader": {
     "cell_type": "code",
     "checksum": "00eec9b28d7e7a592daeb16e44bb7868",
     "grade": false,
     "grade_id": "cell-dd1f0f53e8d62733",
     "locked": false,
     "schema_version": 3,
     "solution": true,
     "task": false
    }
   },
   "outputs": [],
   "source": [
    "# YOUR CODE HERE\n",
    "raise NotImplementedError()"
   ]
  },
  {
   "cell_type": "code",
   "execution_count": null,
   "id": "db2feab8",
   "metadata": {
    "deletable": false,
    "editable": false,
    "nbgrader": {
     "cell_type": "code",
     "checksum": "e78081a0c4c5052b3a38611c59fec7ec",
     "grade": true,
     "grade_id": "cell-b625f8531ba12ccb",
     "locked": true,
     "points": 2,
     "schema_version": 3,
     "solution": false,
     "task": false
    }
   },
   "outputs": [],
   "source": [
    "# NON-EDITABLE CODE CELL FOR TESTING YOUR SOLUTION"
   ]
  },
  {
   "cell_type": "markdown",
   "id": "da0510b7",
   "metadata": {
    "deletable": false,
    "editable": false,
    "nbgrader": {
     "cell_type": "markdown",
     "checksum": "a39792a2afd8caa9053418c67ee93c8d",
     "grade": false,
     "grade_id": "cell-2ca82ffe4d4406bf",
     "locked": true,
     "schema_version": 3,
     "solution": false,
     "task": false
    }
   },
   "source": [
    "Sjekk at koordinatsystemet til det geokodede resultatet er korrekt definert, og **reprojiser laget til ETRS89** (EPSG:25832):"
   ]
  },
  {
   "cell_type": "code",
   "execution_count": null,
   "id": "a9792c63",
   "metadata": {
    "deletable": false,
    "nbgrader": {
     "cell_type": "code",
     "checksum": "a85c270959d287561c55d27ca1456212",
     "grade": false,
     "grade_id": "cell-d90823364ec93ddf",
     "locked": false,
     "schema_version": 3,
     "solution": true,
     "task": false
    }
   },
   "outputs": [],
   "source": [
    "# YOUR CODE HERE\n",
    "raise NotImplementedError()"
   ]
  },
  {
   "cell_type": "code",
   "execution_count": null,
   "id": "e3d6af0d",
   "metadata": {
    "deletable": false,
    "editable": false,
    "nbgrader": {
     "cell_type": "code",
     "checksum": "cf70ea5588d8676845acc2a0dd1171e8",
     "grade": true,
     "grade_id": "cell-ae676651e0ab4578",
     "locked": true,
     "points": 2,
     "schema_version": 3,
     "solution": false,
     "task": false
    }
   },
   "outputs": [],
   "source": [
    "# NON-EDITABLE CODE CELL FOR TESTING YOUR SOLUTION"
   ]
  },
  {
   "cell_type": "markdown",
   "id": "952fab97",
   "metadata": {
    "deletable": false,
    "editable": false,
    "nbgrader": {
     "cell_type": "markdown",
     "checksum": "b9403ebd21f751c163daee2c4a22062c",
     "grade": false,
     "grade_id": "cell-d4e7510e2e8e684d",
     "locked": true,
     "schema_version": 3,
     "solution": false,
     "task": false
    }
   },
   "source": [
    "### d) Opprett en *buffer* rundt punktene\n",
    "\n",
    "Beregn en 1,5 km buffer for hvert geokodede punkt. Overskriv `geometry`-kolonnen med den nye buffergeometrien.\n",
    "\n",
    "Bruk [`geopandas.GeoDataFrame.buffer()`-metoden](http://geopandas.org/geometric_manipulations.html#GeoSeries.buffer), som bruker shapely’s [`buffer()`](http://toblerity.org/shapely/manual.html#object.buffer) i bakgrunnen. Du trenger bare å bry deg om `distance`-parameteren, ikke bekymre deg for de andre mulige argumentene."
   ]
  },
  {
   "cell_type": "code",
   "execution_count": null,
   "id": "317c4b79",
   "metadata": {
    "deletable": false,
    "nbgrader": {
     "cell_type": "code",
     "checksum": "aaa385f83603f431a5244e25e7db82b3",
     "grade": false,
     "grade_id": "cell-e0690d87406a95e7",
     "locked": false,
     "schema_version": 3,
     "solution": true,
     "task": false
    }
   },
   "outputs": [],
   "source": [
    "# YOUR CODE HERE\n",
    "raise NotImplementedError()"
   ]
  },
  {
   "cell_type": "code",
   "execution_count": null,
   "id": "7b7ffb75",
   "metadata": {
    "deletable": false,
    "editable": false,
    "nbgrader": {
     "cell_type": "code",
     "checksum": "3f45175566c03fd0947b424a18fc143b",
     "grade": true,
     "grade_id": "cell-8827f83f841acf36",
     "locked": true,
     "points": 2,
     "schema_version": 3,
     "solution": false,
     "task": false
    }
   },
   "outputs": [],
   "source": [
    "# NON-EDITABLE CODE CELL FOR TESTING YOUR SOLUTION"
   ]
  },
  {
   "cell_type": "markdown",
   "id": "6a3fddcd",
   "metadata": {
    "deletable": false,
    "editable": false,
    "nbgrader": {
     "cell_type": "markdown",
     "checksum": "a8483dc7d2863361974c789f1c30772b",
     "grade": false,
     "grade_id": "cell-b02c9c622a22a5b2",
     "locked": true,
     "schema_version": 3,
     "solution": false,
     "task": false
    }
   },
   "source": [
    "### e) Lagre buffergeometrilaget\n",
    "\n",
    "Lagre dataframen som inneholder buffergeometriene i en *GeoJSON*-fil med navn `shopping_centres.geojson`:"
   ]
  },
  {
   "cell_type": "code",
   "execution_count": null,
   "id": "5f10c4d6",
   "metadata": {
    "deletable": false,
    "nbgrader": {
     "cell_type": "code",
     "checksum": "7a45f04db2dca42abbe8f50e99ac9c3e",
     "grade": false,
     "grade_id": "cell-cdd7a56d9a1501d6",
     "locked": false,
     "schema_version": 3,
     "solution": true,
     "task": false
    }
   },
   "outputs": [],
   "source": [
    "# YOUR CODE HERE\n",
    "raise NotImplementedError()"
   ]
  },
  {
   "cell_type": "code",
   "execution_count": null,
   "id": "661f46f0",
   "metadata": {
    "deletable": false,
    "editable": false,
    "nbgrader": {
     "cell_type": "code",
     "checksum": "22190629c6b05c9af9422bcd5b025061",
     "grade": true,
     "grade_id": "cell-8bc7960126f82a38",
     "locked": true,
     "points": 2,
     "schema_version": 3,
     "solution": false,
     "task": false
    }
   },
   "outputs": [],
   "source": [
    "# NON-EDITABLE CODE CELL FOR TESTING YOUR SOLUTION"
   ]
  },
  {
   "cell_type": "markdown",
   "id": "6d8bd8de",
   "metadata": {
    "deletable": false,
    "editable": false,
    "nbgrader": {
     "cell_type": "markdown",
     "checksum": "c71491c75f5f3df1403bf98118fafa5f",
     "grade": false,
     "grade_id": "cell-5e6cf8d595f03de0",
     "locked": true,
     "schema_version": 3,
     "solution": false,
     "task": false
    }
   },
   "source": [
    "## Ferdig!\n",
    "\n",
    "Supert, da er du ferdig med denne øvingsoppaven."
   ]
  }
 ],
 "metadata": {
  "kernelspec": {
   "display_name": "Python 3 (ipykernel)",
   "language": "python",
   "name": "python3"
  },
  "language_info": {
   "codemirror_mode": {
    "name": "ipython",
    "version": 3
   },
   "file_extension": ".py",
   "mimetype": "text/x-python",
   "name": "python",
   "nbconvert_exporter": "python",
   "pygments_lexer": "ipython3",
   "version": "3.11.9"
  }
 },
 "nbformat": 4,
 "nbformat_minor": 5
}

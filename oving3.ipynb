{
 "cells": [
  {
   "cell_type": "markdown",
   "id": "7eb8e7a3-5eff-483f-bd29-60e2e5dfa7e5",
   "metadata": {
    "deletable": false,
    "editable": false,
    "nbgrader": {
     "cell_type": "markdown",
     "checksum": "45f06dbc284444e95925a877dec43261",
     "grade": false,
     "grade_id": "cell-6fe67869c7f63ec7",
     "locked": true,
     "schema_version": 3,
     "solution": false,
     "task": false
    }
   },
   "source": [
    "## Oppgave 1: Punkt på kart (*5 poeng*)"
   ]
  },
  {
   "cell_type": "markdown",
   "id": "cae30bc6",
   "metadata": {
    "deletable": false,
    "editable": false,
    "nbgrader": {
     "cell_type": "markdown",
     "checksum": "8e1ee57b93359e8d36fd6f26daf7ba2e",
     "grade": false,
     "grade_id": "cell-90f9e87a2c00f271",
     "locked": true,
     "schema_version": 3,
     "solution": false,
     "task": false
    }
   },
   "source": [
    "I denne oppgaven fortsetter vi å lære hvordan vi kan lage geometriske former fra bredde- og lengdegrader.\n",
    "\n",
    "**Målet vårt er å plotte et kart med punkter, basert på et sett med lengde- og breddegrader som er lagret i en csv-fil.**\n",
    "\n",
    "Inputdataene er lagret i CSV-regnearket `some_posts.csv` i mappen `data`. Koordinatene som er lagret der er i WGS84-format (desimalgrader, EPSG:4326), og de første radene med data ser slik ut:\n",
    "\n",
    "```\n",
    "lat,lon,timestamp,userid\n",
    "-24.980792492,31.484633302,2015-07-07 03:02,66487960\n",
    "-25.499224667,31.508905612,2015-07-07 03:18,65281761\n",
    "-24.342578456,30.930866066,2015-03-07 03:38,90916112\n",
    "-24.85461393,31.519718439,2015-10-07 05:04,37959089\n",
    "```\n",
    "\n",
    "Dataene har 81379 rader og består av lokasjoner og tidspunkter for anonymiserte sosiale medieposter inne i Kruger nasjonalpark i Sør-Afrika:\n",
    "\n",
    "| Kolonne | Beskrivelse |\n",
    "|---------|-------------|\n",
    "| lat | y-koordinat for posten |\n",
    "| lon | x-koordinat for posten |\n",
    "| timestamp | Tidspunkt når posten ble lastet opp |\n",
    "| userid | unik id for hver bruker|\n",
    "\n",
    "*Merk: Selv om dataene er basert på ekte sosiale mediedata, har bruker-IDer og tidsstempler blitt randomisert, noe som gjør det umulig å knytte dataene til de opprinnelige innleggene.*"
   ]
  },
  {
   "cell_type": "markdown",
   "id": "8e0efcb3-ba95-431a-ae36-0b1eeed25b4b",
   "metadata": {
    "deletable": false,
    "editable": false,
    "nbgrader": {
     "cell_type": "markdown",
     "checksum": "f3904eedda3473fefb02bd472fe1a2a4",
     "grade": false,
     "grade_id": "cell-ab8067310c7db920",
     "locked": true,
     "schema_version": 3,
     "solution": false,
     "task": false
    }
   },
   "source": [
    "### a) Les CSV-filen\n",
    "\n",
    "- Les dataene fra `some_posts.csv` inn i en Pandas dataframe kalt `data`"
   ]
  },
  {
   "cell_type": "code",
   "execution_count": null,
   "id": "d9989aa3",
   "metadata": {
    "deletable": false,
    "nbgrader": {
     "cell_type": "code",
     "checksum": "8e4d0c64a79ce68cf7e9f05672d60f0d",
     "grade": false,
     "grade_id": "cell-fcf4cad74067c636",
     "locked": false,
     "schema_version": 3,
     "solution": true,
     "task": false
    }
   },
   "outputs": [],
   "source": [
    "# YOUR CODE HERE\n",
    "raise NotImplementedError()"
   ]
  },
  {
   "cell_type": "code",
   "execution_count": null,
   "id": "18fbe117-a89c-4bcf-b4b9-a56dd6134ed0",
   "metadata": {
    "deletable": false,
    "editable": false,
    "nbgrader": {
     "cell_type": "code",
     "checksum": "c39aeb94b91f7a53d570a3aaeff5ccbd",
     "grade": true,
     "grade_id": "cell-02379c0669b9f87c",
     "locked": true,
     "points": 1,
     "schema_version": 3,
     "solution": false,
     "task": false
    }
   },
   "outputs": [],
   "source": []
  },
  {
   "cell_type": "markdown",
   "id": "66226c13",
   "metadata": {
    "deletable": false,
    "editable": false,
    "nbgrader": {
     "cell_type": "markdown",
     "checksum": "6cfe28b0784f431be3535b134135949f",
     "grade": false,
     "grade_id": "cell-795644b7889caddb",
     "locked": true,
     "schema_version": 3,
     "solution": false,
     "task": false
    }
   },
   "source": [
    "### b) Legg til en geometri-kolonne og fyll den med geometriske objekter\n",
    "\n",
    "- Opprett en tom kolonne kalt `geometry` hvor du vil lagre shapely Point-objekter\n",
    "- Sett inn Point-objekter i kolonnen `geometry` basert på koordinatkolonnene\n",
    "\n",
    "Du skal opprette et `shapely.geometry.Point` *for hver rad*, basert på kolonnene `lon` og `lat`.\n",
    "Det finnes forskjellige tilnærminger til denne oppgaven, du oppfordres til å prøve å bruke [`apply()`-metoden](https://pandas.pydata.org/pandas-docs/stable/reference/api/pandas.DataFrame.apply.html) til dataframen, sammen med en *lambda-funksjon* (se [**hintene for denne oppgaven**](https://haavardaagesen.github.io/gmgi221/content/pages/03_oving-3.html))"
   ]
  },
  {
   "cell_type": "code",
   "execution_count": null,
   "id": "f2eb389d",
   "metadata": {
    "deletable": false,
    "nbgrader": {
     "cell_type": "code",
     "checksum": "5aa3a0c6157c8eff9dd3fd0e81e5b87c",
     "grade": false,
     "grade_id": "cell-19227c9b8af6751d",
     "locked": false,
     "schema_version": 3,
     "solution": true,
     "task": false
    }
   },
   "outputs": [],
   "source": [
    "# YOUR CODE HERE\n",
    "raise NotImplementedError()"
   ]
  },
  {
   "cell_type": "code",
   "execution_count": null,
   "id": "95018b3c",
   "metadata": {
    "deletable": false,
    "editable": false,
    "nbgrader": {
     "cell_type": "code",
     "checksum": "bfec036bf2e6532de126575c25c3b7f5",
     "grade": true,
     "grade_id": "cell-d59afd1568e9525c",
     "locked": true,
     "points": 1,
     "schema_version": 3,
     "solution": false,
     "task": false
    }
   },
   "outputs": [],
   "source": []
  },
  {
   "cell_type": "markdown",
   "id": "57345bd1",
   "metadata": {
    "deletable": false,
    "editable": false,
    "nbgrader": {
     "cell_type": "markdown",
     "checksum": "1313b0a1e283c0358b8229b25340c53a",
     "grade": false,
     "grade_id": "cell-ff95b6af49626f65",
     "locked": true,
     "schema_version": 3,
     "solution": false,
     "task": false
    }
   },
   "source": [
    "### c) Konverter `pandas.DataFrame` til en `geopandas.GeoDataFrame`\n",
    "\n",
    "- Konverter `data` til en `geopandas.GeoDataFrame` ved å bruke dens [konstruktør](https://geopandas.org/reference/geopandas.GeoDataFrame.html). (*Se [**hintene for denne oppgaven**](https://haavardaagesen.github.io/gmgi221/content/pages/03_oving-3.html) for ytterligere instruksjoner*)\n",
    "- Sørg for at den resulterende `GeoDataFrame` har et definert koordinatsystem"
   ]
  },
  {
   "cell_type": "code",
   "execution_count": null,
   "id": "195da928",
   "metadata": {
    "deletable": false,
    "nbgrader": {
     "cell_type": "code",
     "checksum": "d46ef5df96a69fd49f854d1e465ae1a7",
     "grade": false,
     "grade_id": "cell-2b04c8bd6f89b57a",
     "locked": false,
     "schema_version": 3,
     "solution": true,
     "task": false
    }
   },
   "outputs": [],
   "source": [
    "# YOUR CODE HERE\n",
    "raise NotImplementedError()"
   ]
  },
  {
   "cell_type": "code",
   "execution_count": null,
   "id": "cf86d4d2",
   "metadata": {
    "deletable": false,
    "editable": false,
    "nbgrader": {
     "cell_type": "code",
     "checksum": "60a26809e16840a29a88db2b8070f20c",
     "grade": true,
     "grade_id": "cell-fc784864915bed12",
     "locked": true,
     "points": 1,
     "schema_version": 3,
     "solution": false,
     "task": false
    }
   },
   "outputs": [],
   "source": []
  },
  {
   "cell_type": "markdown",
   "id": "24fe3ba5",
   "metadata": {
    "deletable": false,
    "editable": false,
    "nbgrader": {
     "cell_type": "markdown",
     "checksum": "6c418f5a382d38568bc9912a901d97df",
     "grade": false,
     "grade_id": "cell-02debc3873504a0a",
     "locked": true,
     "schema_version": 3,
     "solution": false,
     "task": false
    }
   },
   "source": [
    "### d) Lagre dataene i Shapefile-format som `kruger_points.shp` i `data`-katalogen"
   ]
  },
  {
   "cell_type": "code",
   "execution_count": null,
   "id": "ca24b5ba",
   "metadata": {
    "deletable": false,
    "nbgrader": {
     "cell_type": "code",
     "checksum": "77cc01187c411571416fd1b40c447f07",
     "grade": false,
     "grade_id": "cell-f9ac0d4f99cf468f",
     "locked": false,
     "schema_version": 3,
     "solution": true,
     "task": false
    }
   },
   "outputs": [],
   "source": [
    "# YOUR CODE HERE\n",
    "raise NotImplementedError()"
   ]
  },
  {
   "cell_type": "code",
   "execution_count": null,
   "id": "675d6e53",
   "metadata": {
    "deletable": false,
    "editable": false,
    "nbgrader": {
     "cell_type": "code",
     "checksum": "2a35adf4465072266d228dd69fb66bec",
     "grade": true,
     "grade_id": "cell-ffafc76a8633c333",
     "locked": true,
     "points": 1,
     "schema_version": 3,
     "solution": false,
     "task": false
    }
   },
   "outputs": [],
   "source": []
  },
  {
   "cell_type": "markdown",
   "id": "86c00822",
   "metadata": {
    "deletable": false,
    "editable": false,
    "nbgrader": {
     "cell_type": "markdown",
     "checksum": "b4a77ca23d37b3fa23731a46e005c903",
     "grade": false,
     "grade_id": "cell-5b167ab35af65e00",
     "locked": true,
     "schema_version": 3,
     "solution": false,
     "task": false
    }
   },
   "source": [
    "### e) Lag et enkelt kart som viser punktene"
   ]
  },
  {
   "cell_type": "code",
   "execution_count": null,
   "id": "e1885fcf",
   "metadata": {
    "deletable": false,
    "nbgrader": {
     "cell_type": "code",
     "checksum": "baa6ab1aa8ab563da6ca9f286bbfa871",
     "grade": false,
     "grade_id": "cell-c82e8679ad7cfc95",
     "locked": false,
     "schema_version": 3,
     "solution": true,
     "task": false
    }
   },
   "outputs": [],
   "source": [
    "# YOUR CODE HERE\n",
    "raise NotImplementedError()"
   ]
  },
  {
   "cell_type": "markdown",
   "id": "accc1263",
   "metadata": {
    "deletable": false,
    "editable": false,
    "nbgrader": {
     "cell_type": "markdown",
     "checksum": "a353eed2b1c0d1da4eb798c7863f1212",
     "grade": false,
     "grade_id": "cell-b8212d706ec6de94",
     "locked": true,
     "schema_version": 3,
     "solution": false,
     "task": false
    }
   },
   "source": [
    "## Oppgave 2: Hvor langt har brukerne reist? (*5 poeng*)\n",
    "\n",
    "I denne oppgaven er målet å beregne (luftlinje)avstanden i meter som hver sosiale mediebruker i datasettet utarbeidet i *Oppgave 1* har reist mellom innleggene. Vi er interessert i den euklidiske avstanden mellom påfølgende punkter generert av samme bruker.\n",
    "\n",
    "For dette trenger vi å bruke `userid`-kolonnen i datasettet `kruger_posts.shp` som vi opprettet i *Oppgave 1*.\n",
    "\n",
    "Svar på følgende spørsmål:\n",
    "- Hva var den korteste avstanden en bruker reiste mellom alle sine poster (i meter)?\n",
    "- Hva var gjennomsnittsavstanden reist per bruker (i meter)?\n",
    "- Hva var den maksimale avstanden en bruker reiste (i meter)?"
   ]
  },
  {
   "cell_type": "markdown",
   "id": "5c46377b",
   "metadata": {
    "deletable": false,
    "editable": false,
    "nbgrader": {
     "cell_type": "markdown",
     "checksum": "430ae6cfed695662fdcf3a5082b21d60",
     "grade": false,
     "grade_id": "cell-833fcb27a8971ae3",
     "locked": true,
     "schema_version": 3,
     "solution": false,
     "task": false
    }
   },
   "source": [
    "### a) Les inputfilen og re-projiser den\n",
    "\n",
    "- Les inputfilen `kruger_points.shp` inn i en geo-dataframe med navn `kruger_points`\n",
    "- Transformer dataene fra WGS84 til en `EPSG:32735`-projeksjon (UTM sone 35S, egnet for Sør-Afrika). Dette koordinatsystemet har *meter* som enheter."
   ]
  },
  {
   "cell_type": "code",
   "execution_count": null,
   "id": "c16898cf",
   "metadata": {
    "deletable": false,
    "nbgrader": {
     "cell_type": "code",
     "checksum": "31ff1c2750cea6bf4a36ca28259dccaa",
     "grade": false,
     "grade_id": "cell-7c190582c6f71f02",
     "locked": false,
     "schema_version": 3,
     "solution": true,
     "task": false
    }
   },
   "outputs": [],
   "source": [
    "# YOUR CODE HERE\n",
    "raise NotImplementedError()"
   ]
  },
  {
   "cell_type": "code",
   "execution_count": null,
   "id": "40ea1ab5",
   "metadata": {
    "deletable": false,
    "editable": false,
    "nbgrader": {
     "cell_type": "code",
     "checksum": "b70fe51164828e2283f221d8340f032f",
     "grade": true,
     "grade_id": "cell-69809686e2f94df7",
     "locked": true,
     "points": 1,
     "schema_version": 3,
     "solution": false,
     "task": false
    }
   },
   "outputs": [],
   "source": []
  },
  {
   "cell_type": "markdown",
   "id": "c74077bf",
   "metadata": {
    "deletable": false,
    "editable": false,
    "nbgrader": {
     "cell_type": "markdown",
     "checksum": "1ea4a431d0507033c16cec1588afe984",
     "grade": false,
     "grade_id": "cell-bb80a36d12de4a90",
     "locked": true,
     "schema_version": 3,
     "solution": false,
     "task": false
    }
   },
   "source": [
    "### b) Grupper dataene etter bruker-ID\n",
    "\n",
    "Grupper dataene etter `userid` og lagre de grupperte dataene i en variabel `grouped_by_users`"
   ]
  },
  {
   "cell_type": "code",
   "execution_count": null,
   "id": "cf6fc18b",
   "metadata": {
    "deletable": false,
    "nbgrader": {
     "cell_type": "code",
     "checksum": "fce1b69ee2ab0927dfe98b6aada5e88f",
     "grade": false,
     "grade_id": "cell-95bf57aec31b4bee",
     "locked": false,
     "schema_version": 3,
     "solution": true,
     "task": false
    }
   },
   "outputs": [],
   "source": [
    "# YOUR CODE HERE\n",
    "raise NotImplementedError()"
   ]
  },
  {
   "cell_type": "code",
   "execution_count": null,
   "id": "ce94b7ba",
   "metadata": {
    "deletable": false,
    "editable": false,
    "nbgrader": {
     "cell_type": "code",
     "checksum": "f69a1a979ea284d5b7dc3d4e46315c9c",
     "grade": true,
     "grade_id": "cell-c2b720d8b068da8f",
     "locked": true,
     "points": 1,
     "schema_version": 3,
     "solution": false,
     "task": false
    }
   },
   "outputs": [],
   "source": []
  },
  {
   "cell_type": "markdown",
   "id": "8536808e",
   "metadata": {
    "deletable": false,
    "editable": false,
    "nbgrader": {
     "cell_type": "markdown",
     "checksum": "ac3245f8a5c9332560663e04a0c9001e",
     "grade": false,
     "grade_id": "cell-971fd0a6da67acc8",
     "locked": true,
     "schema_version": 3,
     "solution": false,
     "task": false
    }
   },
   "source": [
    "### c) Opprett `shapely.geometry.LineString`-objekter for hver bruker som kobler punktene fra eldste til nyeste\n",
    "\n",
    "Det finnes flere måter å løse dette problemet på (se [**hintene for denne oppgaven**](https://haavardaagesen.github.io/gmgi221/content/pages/03_oving-3.html)). Du kan for eksempel bruke en ordbok (dictionary) eller en tom GeoDataFrame for å samle data som genereres ved å bruke trinnene nedenfor:\n",
    "\n",
    "- Bruk en for-løkke for å iterere over det grupperte objektet. For hver brukers data:\n",
    "    - [sorter](http://pandas.pydata.org/pandas-docs/stable/generated/pandas.DataFrame.sort_values.html) radene etter tidsstempel\n",
    "    - opprett en `shapely.geometry.LineString` basert på brukerens punkter\n",
    "\n",
    "**OBS**: Husk at hver LineString trenger minst to punkter. Hopp over brukere som har mindre enn to poster.\n",
    "\n",
    "Lagre resultatene i en `geopandas.GeoDataFrame` kalt `movements`, og husk å tildele et koordinatsystem (CRS)."
   ]
  },
  {
   "cell_type": "code",
   "execution_count": null,
   "id": "2786966f",
   "metadata": {
    "deletable": false,
    "nbgrader": {
     "cell_type": "code",
     "checksum": "d171b5dc9562d7652ce53829b87ede2a",
     "grade": false,
     "grade_id": "cell-2f2afd4e62feed8a",
     "locked": false,
     "schema_version": 3,
     "solution": true,
     "task": false
    }
   },
   "outputs": [],
   "source": [
    "# YOUR CODE HERE\n",
    "raise NotImplementedError()"
   ]
  },
  {
   "cell_type": "code",
   "execution_count": null,
   "id": "1e10d382",
   "metadata": {
    "deletable": false,
    "editable": false,
    "nbgrader": {
     "cell_type": "code",
     "checksum": "01e3fd6a0e12f952c6b692643da03b1e",
     "grade": true,
     "grade_id": "cell-9dcbfca035c3156a",
     "locked": true,
     "points": 1,
     "schema_version": 3,
     "solution": false,
     "task": false
    }
   },
   "outputs": [],
   "source": []
  },
  {
   "cell_type": "markdown",
   "id": "e9fe830d",
   "metadata": {
    "deletable": false,
    "editable": false,
    "nbgrader": {
     "cell_type": "markdown",
     "checksum": "a3a635ca1a56127704897e9ce91368bb",
     "grade": false,
     "grade_id": "cell-f3b5fa7163b2eb65",
     "locked": true,
     "schema_version": 3,
     "solution": false,
     "task": false
    }
   },
   "source": [
    "### d) Beregn avstanden mellom alle postene til en bruker\n",
    "\n",
    "- Sjekk en gang til at koordinatsystemet (CRS) til dataframen er korrekt\n",
    "- Beregn lengdene av linjene, og lagre det i en ny kolonne kalt `distance`"
   ]
  },
  {
   "cell_type": "code",
   "execution_count": null,
   "id": "24b1cd61",
   "metadata": {
    "deletable": false,
    "nbgrader": {
     "cell_type": "code",
     "checksum": "44449bfea6818af5603fcbbb2b5c925b",
     "grade": false,
     "grade_id": "cell-4509947415925427",
     "locked": false,
     "schema_version": 3,
     "solution": true,
     "task": false
    }
   },
   "outputs": [],
   "source": [
    "# YOUR CODE HERE\n",
    "raise NotImplementedError()"
   ]
  },
  {
   "cell_type": "code",
   "execution_count": null,
   "id": "f27089d2",
   "metadata": {
    "deletable": false,
    "editable": false,
    "nbgrader": {
     "cell_type": "code",
     "checksum": "13fb415a9784dc07c76bf3cae5d66774",
     "grade": true,
     "grade_id": "cell-95edeec26e4ede16",
     "locked": true,
     "points": 1,
     "schema_version": 3,
     "solution": false,
     "task": false
    }
   },
   "outputs": [],
   "source": []
  },
  {
   "cell_type": "markdown",
   "id": "529a686e",
   "metadata": {
    "deletable": false,
    "editable": false,
    "nbgrader": {
     "cell_type": "markdown",
     "checksum": "0d918d7a9eed5ba20447b8d269ef5169",
     "grade": false,
     "grade_id": "cell-ccbd9327611d06da",
     "locked": true,
     "schema_version": 3,
     "solution": false,
     "task": false
    }
   },
   "source": [
    "### e) Svar på de opprinnelige spørsmålene\n",
    "\n",
    "Du bør nå raskt kunne finne svar på følgende spørsmål:\n",
    "- Hva var den korteste avstanden en bruker reiste mellom alle sine poster (i meter)? (lagre verdien i en variabel `shortest_distance`)\n",
    "- Hva var gjennomsnittsavstanden reist per bruker (i meter)? (lagre verdien i en variabel `mean_distance`)\n",
    "- Hva var den maksimale avstanden en bruker reiste (i meter)? (lagre verdien i en variabel `longest_distance`)"
   ]
  },
  {
   "cell_type": "code",
   "execution_count": null,
   "id": "8367ca88",
   "metadata": {
    "deletable": false,
    "nbgrader": {
     "cell_type": "code",
     "checksum": "16e65c10bd4fa2926e931a487d4b75ca",
     "grade": false,
     "grade_id": "cell-a3e6f622d70a54fe",
     "locked": false,
     "schema_version": 3,
     "solution": true,
     "task": false
    }
   },
   "outputs": [],
   "source": [
    "# YOUR CODE HERE\n",
    "raise NotImplementedError()"
   ]
  },
  {
   "cell_type": "code",
   "execution_count": null,
   "id": "daab50bb",
   "metadata": {
    "deletable": false,
    "editable": false,
    "nbgrader": {
     "cell_type": "code",
     "checksum": "45112ce0f0656bccf23f204cce4dde58",
     "grade": true,
     "grade_id": "cell-8a7001b486a7fb29",
     "locked": true,
     "points": 1,
     "schema_version": 3,
     "solution": false,
     "task": false
    }
   },
   "outputs": [],
   "source": []
  },
  {
   "cell_type": "markdown",
   "id": "9a73bae6",
   "metadata": {
    "deletable": false,
    "editable": false,
    "nbgrader": {
     "cell_type": "markdown",
     "checksum": "073ce14f2d9fa9dcee8a416d375e420e",
     "grade": false,
     "grade_id": "cell-3e3a473fc0e11c50",
     "locked": true,
     "schema_version": 3,
     "solution": false,
     "task": false
    }
   },
   "source": [
    "### f) Lagre bevegelsene i en fil\n",
    "\n",
    "Lagre `movements` i en ny Shapefil kalt `movements.shp` i `data`-mappen."
   ]
  },
  {
   "cell_type": "code",
   "execution_count": null,
   "id": "e6b99718",
   "metadata": {
    "deletable": false,
    "nbgrader": {
     "cell_type": "code",
     "checksum": "7c17460f77023239516c45e6d5ddbf76",
     "grade": false,
     "grade_id": "cell-50f29d51ef833cb9",
     "locked": false,
     "schema_version": 3,
     "solution": true,
     "task": false
    }
   },
   "outputs": [],
   "source": [
    "# YOUR CODE HERE\n",
    "raise NotImplementedError()"
   ]
  },
  {
   "cell_type": "code",
   "execution_count": null,
   "id": "41485641",
   "metadata": {
    "deletable": false,
    "editable": false,
    "nbgrader": {
     "cell_type": "code",
     "checksum": "e8c842c931a28f69a363e446b64b86f8",
     "grade": true,
     "grade_id": "cell-0daaa7f1a14710dd",
     "locked": true,
     "points": 1,
     "schema_version": 3,
     "solution": false,
     "task": false
    }
   },
   "outputs": [],
   "source": []
  },
  {
   "cell_type": "markdown",
   "id": "8e1be45e",
   "metadata": {
    "deletable": false,
    "editable": false,
    "nbgrader": {
     "cell_type": "markdown",
     "checksum": "d6f3d9f62babd16a849e159b320cfce8",
     "grade": false,
     "grade_id": "cell-e3637ed922ed2c09",
     "locked": true,
     "schema_version": 3,
     "solution": false,
     "task": false
    }
   },
   "source": [
    "## Supert! Du er nå ferdig med øving 3!"
   ]
  }
 ],
 "metadata": {
  "kernelspec": {
   "display_name": "Python 3 (ipykernel)",
   "language": "python",
   "name": "python3"
  },
  "language_info": {
   "codemirror_mode": {
    "name": "ipython",
    "version": 3
   },
   "file_extension": ".py",
   "mimetype": "text/x-python",
   "name": "python",
   "nbconvert_exporter": "python",
   "pygments_lexer": "ipython3",
   "version": "3.11.9"
  }
 },
 "nbformat": 4,
 "nbformat_minor": 5
}
